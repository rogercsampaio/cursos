{
  "cells": [
    {
      "cell_type": "markdown",
      "source": [
        "## Capítulo 21 - Módulos Math e Statistics."
      ],
      "metadata": {}
    },
    {
      "cell_type": "markdown",
      "source": [
        "<img src=\"imagens/logo_oficial.jpg\"/>"
      ],
      "metadata": {
        "nteract": {
          "transient": {
            "deleting": false
          }
        }
      }
    },
    {
      "cell_type": "markdown",
      "source": [
        "A linguagem Python é bastante versátil, porque contempla uma série de módulos úteis para o desenvolvimento de aplicativos como, por exemplo, pacotes para tratar operações matemáticas e estatísticas. Exploraremos nessa aula dois módulos úteis:\r\n",
        "- math. Contém funções matemáticas (potência,...),  trignométricas (seno, cosseno ...), valor absoluto de um número, fatorial entre outros. Caso queíramos utilizar valores complexos devemos optar pelo módulo cmath. </br>\r\n",
        "- statistic. Funções estatísticas como, por exemplo, média, desvio padrão, somatório, valor máximo de conjunto de dados. </br>"
      ],
      "metadata": {}
    },
    {
      "cell_type": "markdown",
      "source": [
        "<h3> Importação </h3>\n",
        "Primeiro passo é importar a biblioteca."
      ],
      "metadata": {}
    },
    {
      "cell_type": "code",
      "source": [
        "import math as matematica"
      ],
      "outputs": [],
      "execution_count": 1,
      "metadata": {
        "gather": {
          "logged": 1668905092285
        }
      }
    },
    {
      "cell_type": "markdown",
      "source": [
        "<h3> Métodos úteis </h3>\n",
        "\n",
        "https://docs.python.org/3/library/math.html"
      ],
      "metadata": {}
    },
    {
      "cell_type": "markdown",
      "source": [
        "<h4> Método factorial </h4>\n",
        "\n",
        "factorial( ) = Calcula o fatorial de um valor numérico. Retorna ValueError caso não for valor inteiro ou valor negativo, isto porque matematicamente não existe fatorial de número negativo."
      ],
      "metadata": {}
    },
    {
      "cell_type": "code",
      "source": [
        "# FAT (5) = 5 *4 * 3 * 2 * 1 = 120\n",
        "# FAT (3) = 3 * 2 * 1 = 6\n",
        "matematica.factorial(5)"
      ],
      "outputs": [
        {
          "output_type": "execute_result",
          "execution_count": 2,
          "data": {
            "text/plain": "120"
          },
          "metadata": {}
        }
      ],
      "execution_count": 2,
      "metadata": {
        "gather": {
          "logged": 1668905103565
        }
      }
    },
    {
      "cell_type": "code",
      "source": [
        "matematica.factorial(3)"
      ],
      "outputs": [
        {
          "output_type": "execute_result",
          "execution_count": 3,
          "data": {
            "text/plain": "6"
          },
          "metadata": {}
        }
      ],
      "execution_count": 3,
      "metadata": {
        "jupyter": {
          "source_hidden": false,
          "outputs_hidden": false
        },
        "nteract": {
          "transient": {
            "deleting": false
          }
        },
        "gather": {
          "logged": 1668905112642
        }
      }
    },
    {
      "cell_type": "code",
      "source": [
        "matematica.factorial(-4)"
      ],
      "outputs": [
        {
          "output_type": "error",
          "ename": "ValueError",
          "evalue": "factorial() not defined for negative values",
          "traceback": [
            "\u001b[0;31m---------------------------------------------------------------------------\u001b[0m",
            "\u001b[0;31mValueError\u001b[0m                                Traceback (most recent call last)",
            "\u001b[0;32m/tmp/ipykernel_7758/1604653428.py\u001b[0m in \u001b[0;36m<module>\u001b[0;34m\u001b[0m\n\u001b[0;32m----> 1\u001b[0;31m \u001b[0mmatematica\u001b[0m\u001b[0;34m.\u001b[0m\u001b[0mfactorial\u001b[0m\u001b[0;34m(\u001b[0m\u001b[0;34m-\u001b[0m\u001b[0;36m4\u001b[0m\u001b[0;34m)\u001b[0m\u001b[0;34m\u001b[0m\u001b[0;34m\u001b[0m\u001b[0m\n\u001b[0m",
            "\u001b[0;31mValueError\u001b[0m: factorial() not defined for negative values"
          ]
        }
      ],
      "execution_count": 4,
      "metadata": {
        "jupyter": {
          "source_hidden": false,
          "outputs_hidden": false
        },
        "nteract": {
          "transient": {
            "deleting": false
          }
        },
        "gather": {
          "logged": 1668905120916
        }
      }
    },
    {
      "cell_type": "code",
      "source": [
        "# Usando funções prontas, você economiza tempo, não precisa reiventar a roda!\n",
        "def calcFatorial(fatValor):\n",
        "    resultado = 1\n",
        "    # Por que não existe fatorial de número negativo\n",
        "    if(fatValor >= 0):\n",
        "        for i in range(fatValor,0,-1):\n",
        "            resultado *= i\n",
        "    else:\n",
        "        resultado = -1\n",
        "    return ('fatorial de ' + str(fatValor),resultado)"
      ],
      "outputs": [],
      "execution_count": 5,
      "metadata": {
        "gather": {
          "logged": 1668905198533
        }
      }
    },
    {
      "cell_type": "code",
      "source": [
        "print(calcFatorial(5))"
      ],
      "outputs": [
        {
          "output_type": "stream",
          "name": "stdout",
          "text": "('fatorial de 5', 120)\n"
        }
      ],
      "execution_count": 6,
      "metadata": {
        "gather": {
          "logged": 1668905202757
        }
      }
    },
    {
      "cell_type": "code",
      "source": [
        "matematica.factorial(4)"
      ],
      "outputs": [
        {
          "output_type": "execute_result",
          "execution_count": 8,
          "data": {
            "text/plain": "24"
          },
          "metadata": {}
        }
      ],
      "execution_count": 8,
      "metadata": {
        "gather": {
          "logged": 1668905221982
        }
      }
    },
    {
      "cell_type": "code",
      "source": [
        "matematica.factorial(0)"
      ],
      "outputs": [
        {
          "output_type": "execute_result",
          "execution_count": 9,
          "data": {
            "text/plain": "1"
          },
          "metadata": {}
        }
      ],
      "execution_count": 9,
      "metadata": {
        "gather": {
          "logged": 1668905231232
        }
      }
    },
    {
      "cell_type": "code",
      "source": [
        "matematica.factorial(-1)"
      ],
      "outputs": [
        {
          "output_type": "error",
          "ename": "ValueError",
          "evalue": "factorial() not defined for negative values",
          "traceback": [
            "\u001b[0;31m---------------------------------------------------------------------------\u001b[0m",
            "\u001b[0;31mValueError\u001b[0m                                Traceback (most recent call last)",
            "\u001b[0;32m/tmp/ipykernel_7758/1387639234.py\u001b[0m in \u001b[0;36m<module>\u001b[0;34m\u001b[0m\n\u001b[0;32m----> 1\u001b[0;31m \u001b[0mmatematica\u001b[0m\u001b[0;34m.\u001b[0m\u001b[0mfactorial\u001b[0m\u001b[0;34m(\u001b[0m\u001b[0;34m-\u001b[0m\u001b[0;36m1\u001b[0m\u001b[0;34m)\u001b[0m\u001b[0;34m\u001b[0m\u001b[0;34m\u001b[0m\u001b[0m\n\u001b[0m",
            "\u001b[0;31mValueError\u001b[0m: factorial() not defined for negative values"
          ]
        }
      ],
      "execution_count": 10,
      "metadata": {
        "gather": {
          "logged": 1668905237682
        }
      }
    },
    {
      "cell_type": "markdown",
      "source": [
        "<h4> Método ceil </h4>\n",
        "\n",
        "ceil(x) = Retorna o teto de um valor inteiro maior ou igual a x como se fosse arredondar. Caso o número seja um valor real, retornará o próximo valor inteiro."
      ],
      "metadata": {}
    },
    {
      "cell_type": "code",
      "source": [
        "matematica.ceil(56.1)"
      ],
      "outputs": [
        {
          "output_type": "execute_result",
          "execution_count": 11,
          "data": {
            "text/plain": "57"
          },
          "metadata": {}
        }
      ],
      "execution_count": 11,
      "metadata": {
        "gather": {
          "logged": 1668905278205
        }
      }
    },
    {
      "cell_type": "code",
      "source": [
        "matematica.ceil(56)"
      ],
      "outputs": [
        {
          "output_type": "execute_result",
          "execution_count": 12,
          "data": {
            "text/plain": "56"
          },
          "metadata": {}
        }
      ],
      "execution_count": 12,
      "metadata": {
        "gather": {
          "logged": 1668905287416
        }
      }
    },
    {
      "cell_type": "code",
      "source": [
        "matematica.ceil(59.8)"
      ],
      "outputs": [
        {
          "output_type": "execute_result",
          "execution_count": 13,
          "data": {
            "text/plain": "60"
          },
          "metadata": {}
        }
      ],
      "execution_count": 13,
      "metadata": {
        "gather": {
          "logged": 1668905298796
        }
      }
    },
    {
      "cell_type": "markdown",
      "source": [
        "<h4> Método fabs </h4>\n",
        "\n",
        "fabs( ) = Retorna o valor absoluto."
      ],
      "metadata": {}
    },
    {
      "cell_type": "code",
      "source": [
        "matematica.fabs(-4013)"
      ],
      "outputs": [
        {
          "output_type": "execute_result",
          "execution_count": 14,
          "data": {
            "text/plain": "4013.0"
          },
          "metadata": {}
        }
      ],
      "execution_count": 14,
      "metadata": {
        "gather": {
          "logged": 1668905320375
        }
      }
    },
    {
      "cell_type": "code",
      "source": [
        "56*2"
      ],
      "outputs": [
        {
          "output_type": "execute_result",
          "execution_count": 15,
          "data": {
            "text/plain": "112"
          },
          "metadata": {}
        }
      ],
      "execution_count": 15,
      "metadata": {
        "jupyter": {
          "source_hidden": false,
          "outputs_hidden": false
        },
        "nteract": {
          "transient": {
            "deleting": false
          }
        },
        "gather": {
          "logged": 1668905344280
        }
      }
    },
    {
      "cell_type": "code",
      "source": [
        "matematica.fabs(56*2)"
      ],
      "outputs": [
        {
          "output_type": "execute_result",
          "execution_count": 16,
          "data": {
            "text/plain": "112.0"
          },
          "metadata": {}
        }
      ],
      "execution_count": 16,
      "metadata": {
        "gather": {
          "logged": 1668905348477
        }
      }
    },
    {
      "cell_type": "markdown",
      "source": [
        "<h4> Método gcd </h4>\n",
        "\n",
        "gcd( ) = Retorna o maior divisor comum entre dois valores inteiros. </br>\n",
        "Referência. https://www.todamateria.com.br/mdc-maximo-divisor-comum/"
      ],
      "metadata": {}
    },
    {
      "cell_type": "code",
      "source": [
        "# Esperamos: 4\r\n",
        "print (matematica.gcd(20, 24))"
      ],
      "outputs": [
        {
          "output_type": "stream",
          "name": "stdout",
          "text": "4\n"
        }
      ],
      "execution_count": 17,
      "metadata": {
        "jupyter": {
          "source_hidden": false,
          "outputs_hidden": false
        },
        "nteract": {
          "transient": {
            "deleting": false
          }
        },
        "gather": {
          "logged": 1668905399404
        }
      }
    },
    {
      "cell_type": "code",
      "source": [
        "# Esperamos: 6\r\n",
        "print (matematica.gcd(18, 60))"
      ],
      "outputs": [
        {
          "output_type": "stream",
          "name": "stdout",
          "text": "6\n"
        }
      ],
      "execution_count": 18,
      "metadata": {
        "gather": {
          "logged": 1668905415310
        }
      }
    },
    {
      "cell_type": "markdown",
      "source": [
        "<h4> Método exp </h4>\n",
        "\n",
        "exp(x) = Eleva o número euler (e) a potência de x. e (neper) = 2,71... "
      ],
      "metadata": {}
    },
    {
      "cell_type": "code",
      "source": [
        "print(matematica.exp(2))"
      ],
      "outputs": [
        {
          "output_type": "stream",
          "name": "stdout",
          "text": "7.38905609893065\n"
        }
      ],
      "execution_count": 19,
      "metadata": {
        "gather": {
          "logged": 1668905468502
        }
      }
    },
    {
      "cell_type": "markdown",
      "source": [
        "<h4> Método log </h4>\n",
        "\n",
        "log(x) = com 1 argumento calcula o logaritmo natural para a base e. Com dois argumentos, retorna o logaritmo de x para a base fornecida , calculada como log(x)/log(base)."
      ],
      "metadata": {}
    },
    {
      "cell_type": "code",
      "source": [
        "print(matematica.log(10))"
      ],
      "outputs": [
        {
          "output_type": "stream",
          "name": "stdout",
          "text": "2.302585092994046\n"
        }
      ],
      "execution_count": 20,
      "metadata": {
        "gather": {
          "logged": 1668905503205
        }
      }
    },
    {
      "cell_type": "code",
      "source": [
        "print(matematica.log(10,2))"
      ],
      "outputs": [
        {
          "output_type": "stream",
          "name": "stdout",
          "text": "3.3219280948873626\n"
        }
      ],
      "execution_count": 21,
      "metadata": {
        "gather": {
          "logged": 1668905514997
        }
      }
    },
    {
      "cell_type": "markdown",
      "source": [
        "<h4> Método pow </h4>\n",
        "\n",
        "pow(x,y) = Eleva x a y. Equivale ao operador ** "
      ],
      "metadata": {}
    },
    {
      "cell_type": "code",
      "source": [
        "print(matematica.pow(2,3))"
      ],
      "outputs": [
        {
          "output_type": "stream",
          "name": "stdout",
          "text": "8.0\n"
        }
      ],
      "execution_count": 22,
      "metadata": {
        "gather": {
          "logged": 1668905540070
        }
      }
    },
    {
      "cell_type": "code",
      "source": [
        "print(2 ** 3)"
      ],
      "outputs": [
        {
          "output_type": "stream",
          "name": "stdout",
          "text": "8\n"
        }
      ],
      "execution_count": 23,
      "metadata": {
        "gather": {
          "logged": 1668905551153
        }
      }
    },
    {
      "cell_type": "code",
      "source": [
        "print(matematica.pow(5,2))"
      ],
      "outputs": [
        {
          "output_type": "stream",
          "name": "stdout",
          "text": "25.0\n"
        }
      ],
      "execution_count": 24,
      "metadata": {
        "gather": {
          "logged": 1668905573471
        }
      }
    },
    {
      "cell_type": "code",
      "source": [
        "print(5 ** 2)"
      ],
      "outputs": [
        {
          "output_type": "stream",
          "name": "stdout",
          "text": "25\n"
        }
      ],
      "execution_count": 25,
      "metadata": {
        "gather": {
          "logged": 1668905580482
        }
      }
    },
    {
      "cell_type": "markdown",
      "source": [
        "<h4> Método sqrt </h4>\n",
        "\n",
        "sqrt(x) = Retorna a raiz quadrada de x"
      ],
      "metadata": {}
    },
    {
      "cell_type": "code",
      "source": [
        "print(matematica.sqrt(49))"
      ],
      "outputs": [
        {
          "output_type": "stream",
          "name": "stdout",
          "text": "7.0\n"
        }
      ],
      "execution_count": 26,
      "metadata": {
        "gather": {
          "logged": 1668905653335
        }
      }
    },
    {
      "cell_type": "code",
      "source": [
        "print(7 * 7)\r\n",
        "# multiplicação"
      ],
      "outputs": [
        {
          "output_type": "stream",
          "name": "stdout",
          "text": "49\n"
        }
      ],
      "execution_count": 27,
      "metadata": {
        "gather": {
          "logged": 1668905662278
        }
      }
    },
    {
      "cell_type": "code",
      "source": [
        "print(7 ** 2) \r\n",
        "# potência"
      ],
      "outputs": [
        {
          "output_type": "stream",
          "name": "stdout",
          "text": "49\n"
        }
      ],
      "execution_count": 28,
      "metadata": {
        "gather": {
          "logged": 1668905678305
        }
      }
    },
    {
      "cell_type": "code",
      "source": [
        "print(matematica.pow(7,2))"
      ],
      "outputs": [
        {
          "output_type": "stream",
          "name": "stdout",
          "text": "49.0\n"
        }
      ],
      "execution_count": 29,
      "metadata": {
        "gather": {
          "logged": 1668905685414
        }
      }
    },
    {
      "cell_type": "markdown",
      "source": [
        "<h4> Constante pi </h4>\n",
        "\n",
        "pi = Equivale a π = 3,141592..."
      ],
      "metadata": {}
    },
    {
      "cell_type": "code",
      "source": [
        "matematica.pi"
      ],
      "outputs": [
        {
          "output_type": "execute_result",
          "execution_count": 30,
          "data": {
            "text/plain": "3.141592653589793"
          },
          "metadata": {}
        }
      ],
      "execution_count": 30,
      "metadata": {
        "jupyter": {
          "source_hidden": false,
          "outputs_hidden": false
        },
        "nteract": {
          "transient": {
            "deleting": false
          }
        },
        "gather": {
          "logged": 1668905765053
        }
      }
    },
    {
      "cell_type": "markdown",
      "source": [
        "<img src=\"imagens/circulo.png\"/>"
      ],
      "metadata": {
        "nteract": {
          "transient": {
            "deleting": false
          }
        }
      }
    },
    {
      "cell_type": "code",
      "source": [
        "raio = float(input('Informado o valor do raio: '))\n",
        "area = matematica.pi * (matematica.pow(raio,2))\n",
        "print('A área é %.2f'% area)"
      ],
      "outputs": [
        {
          "output_type": "stream",
          "name": "stdout",
          "text": "A área é 5026.55\n"
        }
      ],
      "execution_count": 32,
      "metadata": {
        "gather": {
          "logged": 1668905792224
        }
      }
    },
    {
      "cell_type": "markdown",
      "source": [
        "<h4> Funções trignométricas </h4>"
      ],
      "metadata": {}
    },
    {
      "cell_type": "markdown",
      "source": [
        "<img src=\"imagens/triangulo.jpg\"/>"
      ],
      "metadata": {}
    },
    {
      "cell_type": "code",
      "source": [
        "# Seno em radianos \n",
        "print(matematica.sin(30))"
      ],
      "outputs": [
        {
          "output_type": "stream",
          "name": "stdout",
          "text": "-0.9880316240928618\n"
        }
      ],
      "execution_count": 33,
      "metadata": {
        "gather": {
          "logged": 1668905847817
        }
      }
    },
    {
      "cell_type": "code",
      "source": [
        "# tangente em radianos \n",
        "print(matematica.tan(50))"
      ],
      "outputs": [
        {
          "output_type": "stream",
          "name": "stdout",
          "text": "-0.27190061199763077\n"
        }
      ],
      "execution_count": 34,
      "metadata": {
        "gather": {
          "logged": 1668905860717
        }
      }
    },
    {
      "cell_type": "code",
      "source": [
        "# cosseno em radianos \n",
        "print(matematica.cos(41))"
      ],
      "outputs": [
        {
          "output_type": "stream",
          "name": "stdout",
          "text": "-0.9873392775238264\n"
        }
      ],
      "execution_count": 35,
      "metadata": {
        "gather": {
          "logged": 1668905871989
        }
      }
    },
    {
      "cell_type": "markdown",
      "source": [
        "## Pacote Statistics </br>\r\n",
        "https://docs.python.org/pt-br/dev/library/statistics.html"
      ],
      "metadata": {
        "nteract": {
          "transient": {
            "deleting": false
          }
        }
      }
    },
    {
      "cell_type": "code",
      "source": [
        "import statistics as est"
      ],
      "outputs": [],
      "execution_count": 36,
      "metadata": {
        "jupyter": {
          "source_hidden": false,
          "outputs_hidden": false
        },
        "nteract": {
          "transient": {
            "deleting": false
          }
        },
        "gather": {
          "logged": 1668906007316
        }
      }
    },
    {
      "cell_type": "code",
      "source": [
        "idades = [20,60,21,56,18,14,19,43]"
      ],
      "outputs": [],
      "execution_count": 37,
      "metadata": {
        "jupyter": {
          "source_hidden": false,
          "outputs_hidden": false
        },
        "nteract": {
          "transient": {
            "deleting": false
          }
        },
        "gather": {
          "logged": 1668906017191
        }
      }
    },
    {
      "cell_type": "markdown",
      "source": [
        "<h4> mean( ) <h4> \r\n",
        "Calcula a média aritmética dos dados."
      ],
      "metadata": {
        "nteract": {
          "transient": {
            "deleting": false
          }
        }
      }
    },
    {
      "cell_type": "code",
      "source": [
        "est.mean(idades)"
      ],
      "outputs": [
        {
          "output_type": "execute_result",
          "execution_count": 38,
          "data": {
            "text/plain": "31.375"
          },
          "metadata": {}
        }
      ],
      "execution_count": 38,
      "metadata": {
        "jupyter": {
          "source_hidden": false,
          "outputs_hidden": false
        },
        "nteract": {
          "transient": {
            "deleting": false
          }
        },
        "gather": {
          "logged": 1668906040142
        }
      }
    },
    {
      "cell_type": "code",
      "source": [
        "# Equivale a fazer isso. Economize tempo, porque reiventar a roda?\r\n",
        "soma_idades = 0\r\n",
        "for idade in idades:\r\n",
        "    soma_idades = soma_idades + idade\r\n",
        "media = soma_idades/len(idades)\r\n",
        "print(media)"
      ],
      "outputs": [
        {
          "output_type": "stream",
          "name": "stdout",
          "text": "31.375\n"
        }
      ],
      "execution_count": 39,
      "metadata": {
        "jupyter": {
          "source_hidden": false,
          "outputs_hidden": false
        },
        "nteract": {
          "transient": {
            "deleting": false
          }
        },
        "gather": {
          "logged": 1668906075008
        }
      }
    },
    {
      "cell_type": "code",
      "source": [
        "salarios = [6000,3.200,5.212,7891]\r\n",
        "est.mean(salarios)"
      ],
      "outputs": [
        {
          "output_type": "execute_result",
          "execution_count": 40,
          "data": {
            "text/plain": "3474.853"
          },
          "metadata": {}
        }
      ],
      "execution_count": 40,
      "metadata": {
        "jupyter": {
          "source_hidden": false,
          "outputs_hidden": false
        },
        "nteract": {
          "transient": {
            "deleting": false
          }
        },
        "gather": {
          "logged": 1668906102958
        }
      }
    },
    {
      "cell_type": "code",
      "source": [
        "# Resumo\r\n",
        "print(f\"\"\" O valor do somatório é {sum(salarios)}\"\"\")\r\n",
        "print(f\"\"\" O valor mínimo é {min(salarios)}\"\"\")\r\n",
        "print(f\"\"\" O valor máximo é {max(salarios)}\"\"\")\r\n",
        "print(f\"\"\" O valor médio é {est.mean(salarios)}\"\"\")\r\n",
        "print(f\"\"\" Existem um total de salários {len(salarios)}\"\"\")\r\n"
      ],
      "outputs": [
        {
          "output_type": "stream",
          "name": "stdout",
          "text": " O valor do somatório é 13899.412\n O valor mínimo é 3.2\n O valor máximo é 7891\n O valor médio é 3474.853\n Existem um total de salários 4\n"
        }
      ],
      "execution_count": 41,
      "metadata": {
        "jupyter": {
          "source_hidden": false,
          "outputs_hidden": false
        },
        "nteract": {
          "transient": {
            "deleting": false
          }
        },
        "gather": {
          "logged": 1668906144473
        }
      }
    },
    {
      "cell_type": "markdown",
      "source": [
        "<h4> median( ) </h4>\r\n",
        "Calcula a mediana (valor do meio) dos dados."
      ],
      "metadata": {
        "nteract": {
          "transient": {
            "deleting": false
          }
        }
      }
    },
    {
      "cell_type": "code",
      "source": [
        "valores = list(range(1,10))\r\n",
        "est.median(valores)"
      ],
      "outputs": [
        {
          "output_type": "execute_result",
          "execution_count": 44,
          "data": {
            "text/plain": "5"
          },
          "metadata": {}
        }
      ],
      "execution_count": 44,
      "metadata": {
        "jupyter": {
          "source_hidden": false,
          "outputs_hidden": false
        },
        "nteract": {
          "transient": {
            "deleting": false
          }
        },
        "gather": {
          "logged": 1668906210890
        }
      }
    },
    {
      "cell_type": "code",
      "source": [
        "valores"
      ],
      "outputs": [
        {
          "output_type": "execute_result",
          "execution_count": 45,
          "data": {
            "text/plain": "[1, 2, 3, 4, 5, 6, 7, 8, 9]"
          },
          "metadata": {}
        }
      ],
      "execution_count": 45,
      "metadata": {
        "jupyter": {
          "source_hidden": false,
          "outputs_hidden": false
        },
        "nteract": {
          "transient": {
            "deleting": false
          }
        },
        "gather": {
          "logged": 1668906212521
        }
      }
    },
    {
      "cell_type": "markdown",
      "source": [
        "<h4> mode( ) </h4>\r\n",
        "Moda (valor mais comum) de dados discretos ou nominais.\r\n"
      ],
      "metadata": {
        "nteract": {
          "transient": {
            "deleting": false
          }
        }
      }
    },
    {
      "cell_type": "code",
      "source": [
        "sapatos = [40,40,35,37,39,40,40,38,39,39,40,36,40,40]\r\n",
        "est.mode(sapatos)"
      ],
      "outputs": [
        {
          "output_type": "execute_result",
          "execution_count": 47,
          "data": {
            "text/plain": "40"
          },
          "metadata": {}
        }
      ],
      "execution_count": 47,
      "metadata": {
        "jupyter": {
          "source_hidden": false,
          "outputs_hidden": false
        },
        "nteract": {
          "transient": {
            "deleting": false
          }
        },
        "gather": {
          "logged": 1668906269438
        }
      }
    },
    {
      "cell_type": "markdown",
      "source": [
        "<h4> multimode( ) </h4>\r\n",
        "Lista dos valores mais comuns (moda) dos dados. Importante considerar que o método retorna os elementos mais frequentes na ORDEM que foram encontrados."
      ],
      "metadata": {
        "nteract": {
          "transient": {
            "deleting": false
          }
        }
      }
    },
    {
      "cell_type": "code",
      "source": [
        "est.multimode('aabbbbccddddeeffffgg')"
      ],
      "outputs": [
        {
          "output_type": "execute_result",
          "execution_count": 50,
          "data": {
            "text/plain": "['b', 'd', 'f']"
          },
          "metadata": {}
        }
      ],
      "execution_count": 50,
      "metadata": {
        "jupyter": {
          "source_hidden": false,
          "outputs_hidden": false
        },
        "nteract": {
          "transient": {
            "deleting": false
          }
        },
        "gather": {
          "logged": 1668906474754
        }
      }
    },
    {
      "cell_type": "code",
      "source": [
        "# E se a lista de dados estiver vazia?\r\n",
        "est.multimode('')"
      ],
      "outputs": [
        {
          "output_type": "execute_result",
          "execution_count": 51,
          "data": {
            "text/plain": "[]"
          },
          "metadata": {}
        }
      ],
      "execution_count": 51,
      "metadata": {
        "jupyter": {
          "source_hidden": false,
          "outputs_hidden": false
        },
        "nteract": {
          "transient": {
            "deleting": false
          }
        },
        "gather": {
          "logged": 1668906485304
        }
      }
    },
    {
      "cell_type": "markdown",
      "source": [
        "<h4> quantiles( ) </h4>\r\n",
        "Divide os dados em intervalos com probabilidade igual.\r\n",
        "Retorna uma lista de n - 1 pontos de corte separando os intervalos."
      ],
      "metadata": {
        "nteract": {
          "transient": {
            "deleting": false
          }
        }
      }
    },
    {
      "cell_type": "code",
      "source": [
        "data = [105, 129, 87, 86, 111, 111, 89, 81, 108, 92, 110,\r\n",
        "        100, 75, 105, 103, 109, 76, 119, 99, 91, 103, 129,\r\n",
        "        106, 101, 84, 111, 74, 87, 86, 103, 103, 106, 86,\r\n",
        "        111, 75, 87, 102, 121, 111, 88, 89, 101, 106, 95,\r\n",
        "        103, 107, 101, 81, 109, 104]\r\n",
        "[round(q, 1) for q in est.quantiles(data, n=4)]\r\n"
      ],
      "outputs": [
        {
          "output_type": "execute_result",
          "execution_count": 55,
          "data": {
            "text/plain": "[87.0, 102.5, 108.2]"
          },
          "metadata": {}
        }
      ],
      "execution_count": 55,
      "metadata": {
        "jupyter": {
          "source_hidden": false,
          "outputs_hidden": false
        },
        "nteract": {
          "transient": {
            "deleting": false
          }
        },
        "gather": {
          "logged": 1668906736763
        }
      }
    },
    {
      "cell_type": "code",
      "source": [
        "# StatisticsError \r\n",
        "[round(q, 1) for q in est.quantiles(data, n=-1)]"
      ],
      "outputs": [
        {
          "output_type": "error",
          "ename": "StatisticsError",
          "evalue": "n must be at least 1",
          "traceback": [
            "\u001b[0;31m---------------------------------------------------------------------------\u001b[0m",
            "\u001b[0;31mStatisticsError\u001b[0m                           Traceback (most recent call last)",
            "\u001b[0;32m/tmp/ipykernel_7758/59993859.py\u001b[0m in \u001b[0;36m<module>\u001b[0;34m\u001b[0m\n\u001b[1;32m      1\u001b[0m \u001b[0;31m# StatisticsError\u001b[0m\u001b[0;34m\u001b[0m\u001b[0;34m\u001b[0m\u001b[0;34m\u001b[0m\u001b[0m\n\u001b[0;32m----> 2\u001b[0;31m \u001b[0;34m[\u001b[0m\u001b[0mround\u001b[0m\u001b[0;34m(\u001b[0m\u001b[0mq\u001b[0m\u001b[0;34m,\u001b[0m \u001b[0;36m1\u001b[0m\u001b[0;34m)\u001b[0m \u001b[0;32mfor\u001b[0m \u001b[0mq\u001b[0m \u001b[0;32min\u001b[0m \u001b[0mest\u001b[0m\u001b[0;34m.\u001b[0m\u001b[0mquantiles\u001b[0m\u001b[0;34m(\u001b[0m\u001b[0mdata\u001b[0m\u001b[0;34m,\u001b[0m \u001b[0mn\u001b[0m\u001b[0;34m=\u001b[0m\u001b[0;34m-\u001b[0m\u001b[0;36m1\u001b[0m\u001b[0;34m)\u001b[0m\u001b[0;34m]\u001b[0m\u001b[0;34m\u001b[0m\u001b[0;34m\u001b[0m\u001b[0m\n\u001b[0m",
            "\u001b[0;32m/anaconda/envs/azureml_py38/lib/python3.8/statistics.py\u001b[0m in \u001b[0;36mquantiles\u001b[0;34m(data, n, method)\u001b[0m\n\u001b[1;32m    635\u001b[0m     \"\"\"\n\u001b[1;32m    636\u001b[0m     \u001b[0;32mif\u001b[0m \u001b[0mn\u001b[0m \u001b[0;34m<\u001b[0m \u001b[0;36m1\u001b[0m\u001b[0;34m:\u001b[0m\u001b[0;34m\u001b[0m\u001b[0;34m\u001b[0m\u001b[0m\n\u001b[0;32m--> 637\u001b[0;31m         \u001b[0;32mraise\u001b[0m \u001b[0mStatisticsError\u001b[0m\u001b[0;34m(\u001b[0m\u001b[0;34m'n must be at least 1'\u001b[0m\u001b[0;34m)\u001b[0m\u001b[0;34m\u001b[0m\u001b[0;34m\u001b[0m\u001b[0m\n\u001b[0m\u001b[1;32m    638\u001b[0m     \u001b[0mdata\u001b[0m \u001b[0;34m=\u001b[0m \u001b[0msorted\u001b[0m\u001b[0;34m(\u001b[0m\u001b[0mdata\u001b[0m\u001b[0;34m)\u001b[0m\u001b[0;34m\u001b[0m\u001b[0;34m\u001b[0m\u001b[0m\n\u001b[1;32m    639\u001b[0m     \u001b[0mld\u001b[0m \u001b[0;34m=\u001b[0m \u001b[0mlen\u001b[0m\u001b[0;34m(\u001b[0m\u001b[0mdata\u001b[0m\u001b[0;34m)\u001b[0m\u001b[0;34m\u001b[0m\u001b[0;34m\u001b[0m\u001b[0m\n",
            "\u001b[0;31mStatisticsError\u001b[0m: n must be at least 1"
          ]
        }
      ],
      "execution_count": 56,
      "metadata": {
        "jupyter": {
          "source_hidden": false,
          "outputs_hidden": false
        },
        "nteract": {
          "transient": {
            "deleting": false
          }
        },
        "gather": {
          "logged": 1668906753375
        }
      }
    },
    {
      "cell_type": "code",
      "source": [
        "# StatisticsError\r\n",
        "try:\r\n",
        "    lista = [round(q, 1) for q in est.quantiles(data, n=-1)] \r\n",
        "except est.StatisticsError:\r\n",
        "    print('O número de quartis deve ser pelo menos 1')\r\n",
        "else:\r\n",
        "    print(lista)"
      ],
      "outputs": [
        {
          "output_type": "stream",
          "name": "stdout",
          "text": "O número de quartis deve ser pelo menos 1\n"
        }
      ],
      "execution_count": 58,
      "metadata": {
        "jupyter": {
          "source_hidden": false,
          "outputs_hidden": false
        },
        "nteract": {
          "transient": {
            "deleting": false
          }
        },
        "gather": {
          "logged": 1668906767439
        }
      }
    },
    {
      "cell_type": "code",
      "source": [
        "[round(q, 1) for q in est.quantiles(data, n=8)]"
      ],
      "outputs": [
        {
          "output_type": "execute_result",
          "execution_count": 59,
          "data": {
            "text/plain": "[82.1, 87.0, 95.5, 102.5, 104.9, 108.2, 111.0]"
          },
          "metadata": {}
        }
      ],
      "execution_count": 59,
      "metadata": {
        "jupyter": {
          "source_hidden": false,
          "outputs_hidden": false
        },
        "nteract": {
          "transient": {
            "deleting": false
          }
        },
        "gather": {
          "logged": 1668906774417
        }
      }
    },
    {
      "cell_type": "markdown",
      "source": [
        "<h4> pstdev( ) </h4>\r\n",
        "Retorna o desvio padrão populacional (a raiz quadrada da variância populacional). "
      ],
      "metadata": {
        "nteract": {
          "transient": {
            "deleting": false
          }
        }
      }
    },
    {
      "cell_type": "code",
      "source": [
        "est.pstdev([1.5, 2.5, 2.5, 2.75, 3.25, 4.75])"
      ],
      "outputs": [
        {
          "output_type": "execute_result",
          "execution_count": 60,
          "data": {
            "text/plain": "0.986893273527251"
          },
          "metadata": {}
        }
      ],
      "execution_count": 60,
      "metadata": {
        "jupyter": {
          "source_hidden": false,
          "outputs_hidden": false
        },
        "nteract": {
          "transient": {
            "deleting": false
          }
        },
        "gather": {
          "logged": 1668906810220
        }
      }
    }
  ],
  "metadata": {
    "kernelspec": {
      "name": "python3",
      "language": "python",
      "display_name": "Python 3 (ipykernel)"
    },
    "language_info": {
      "name": "python",
      "version": "3.8.5",
      "mimetype": "text/x-python",
      "codemirror_mode": {
        "name": "ipython",
        "version": 3
      },
      "pygments_lexer": "ipython3",
      "nbconvert_exporter": "python",
      "file_extension": ".py"
    },
    "nteract": {
      "version": "nteract-front-end@1.0.0"
    },
    "kernel_info": {
      "name": "python3"
    }
  },
  "nbformat": 4,
  "nbformat_minor": 2
}